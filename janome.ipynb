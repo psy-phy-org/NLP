{
  "nbformat": 4,
  "nbformat_minor": 0,
  "metadata": {
    "colab": {
      "provenance": [],
      "toc_visible": true,
      "authorship_tag": "ABX9TyOM65v/IU/AgkKysTAL45Mn",
      "include_colab_link": true
    },
    "kernelspec": {
      "name": "python3",
      "display_name": "Python 3"
    },
    "language_info": {
      "name": "python"
    }
  },
  "cells": [
    {
      "cell_type": "markdown",
      "metadata": {
        "id": "view-in-github",
        "colab_type": "text"
      },
      "source": [
        "<a href=\"https://colab.research.google.com/github/psy-phy-org/NLP/blob/main/janome.ipynb\" target=\"_parent\"><img src=\"https://colab.research.google.com/assets/colab-badge.svg\" alt=\"Open In Colab\"/></a>"
      ]
    },
    {
      "cell_type": "markdown",
      "source": [
        "# Janome (蛇の目）\n",
        "<https://mocobeta.github.io/janome/> (reference 2022/09/25)"
      ],
      "metadata": {
        "id": "WywJeZIljoff"
      }
    },
    {
      "cell_type": "code",
      "source": [
        "!pip install janome"
      ],
      "metadata": {
        "colab": {
          "base_uri": "https://localhost:8080/"
        },
        "id": "o7yd_IC2jyNE",
        "outputId": "fe0b5eb2-1bb1-42d3-c0ca-bca19d8ddbb8"
      },
      "execution_count": null,
      "outputs": [
        {
          "output_type": "stream",
          "name": "stdout",
          "text": [
            "Looking in indexes: https://pypi.org/simple, https://us-python.pkg.dev/colab-wheels/public/simple/\n",
            "Collecting janome\n",
            "  Downloading Janome-0.4.2-py2.py3-none-any.whl (19.7 MB)\n",
            "\u001b[K     |████████████████████████████████| 19.7 MB 1.2 MB/s \n",
            "\u001b[?25hInstalling collected packages: janome\n",
            "Successfully installed janome-0.4.2\n"
          ]
        }
      ]
    },
    {
      "cell_type": "code",
      "source": [
        "from janome.tokenizer import Tokenizer"
      ],
      "metadata": {
        "id": "EFNiDZbRjyyU"
      },
      "execution_count": null,
      "outputs": []
    },
    {
      "cell_type": "code",
      "source": [
        "t = Tokenizer()\n",
        "\n",
        "s = 'すもももももももものうち'\n",
        "# tokenize()メソッドはjanome.tokenizer.Tokenオブジェクトのジェネレータを返す。\n",
        "#「ジェネレーター」とは生成器という意味で、おもにジェネレーター関数のことを指します。ジェネレータ関数とはシーケンスを作成する関数です。\n",
        "# シーケンスとは複数の値を順番に並べたものをひとかたまりとして格納するための型です。\n",
        "print(type(t.tokenize(s)))"
      ],
      "metadata": {
        "colab": {
          "base_uri": "https://localhost:8080/"
        },
        "id": "uDrk30IbkPmo",
        "outputId": "03182395-26eb-42c3-ed59-c0f9f8581557"
      },
      "execution_count": null,
      "outputs": [
        {
          "output_type": "stream",
          "name": "stdout",
          "text": [
            "<class 'generator'>\n"
          ]
        }
      ]
    },
    {
      "cell_type": "code",
      "source": [
        "for token in t.tokenize(s):\n",
        "    print(token)"
      ],
      "metadata": {
        "colab": {
          "base_uri": "https://localhost:8080/"
        },
        "id": "6oizqZozkTXn",
        "outputId": "2cfb8d85-69a2-4e3a-c91e-0b4f3fa17f1a"
      },
      "execution_count": null,
      "outputs": [
        {
          "output_type": "stream",
          "name": "stdout",
          "text": [
            "すもも\t名詞,一般,*,*,*,*,すもも,スモモ,スモモ\n",
            "も\t助詞,係助詞,*,*,*,*,も,モ,モ\n",
            "もも\t名詞,一般,*,*,*,*,もも,モモ,モモ\n",
            "も\t助詞,係助詞,*,*,*,*,も,モ,モ\n",
            "もも\t名詞,一般,*,*,*,*,もも,モモ,モモ\n",
            "の\t助詞,連体化,*,*,*,*,の,ノ,ノ\n",
            "うち\t名詞,非自立,副詞可能,*,*,*,うち,ウチ,ウチ\n"
          ]
        }
      ]
    },
    {
      "cell_type": "markdown",
      "source": [
        "Tokenオブジェクトの属性"
      ],
      "metadata": {
        "id": "8_nLRyK_kT2A"
      }
    },
    {
      "cell_type": "code",
      "source": [
        "token = t.tokenize('走れ').__next__()\n",
        "\n",
        "print(type(token)) # <class 'janome.tokenizer.Token'>\n",
        "\n",
        "print(token)"
      ],
      "metadata": {
        "colab": {
          "base_uri": "https://localhost:8080/"
        },
        "id": "cZ_cxqaEkkM4",
        "outputId": "12f77184-d433-4367-d7e2-db9c70603ceb"
      },
      "execution_count": null,
      "outputs": [
        {
          "output_type": "stream",
          "name": "stdout",
          "text": [
            "<class 'janome.tokenizer.Token'>\n",
            "走れ\t動詞,自立,*,*,五段・ラ行,命令ｅ,走る,ハシレ,ハシレ\n"
          ]
        }
      ]
    },
    {
      "cell_type": "code",
      "source": [
        "# surface（表層形）：文字列の中で使われているそのままの形\n",
        "print(token.surface)"
      ],
      "metadata": {
        "colab": {
          "base_uri": "https://localhost:8080/"
        },
        "id": "r25emNv_kqlh",
        "outputId": "7d9673e1-aa8e-4baf-e823-ec0c653067aa"
      },
      "execution_count": null,
      "outputs": [
        {
          "output_type": "stream",
          "name": "stdout",
          "text": [
            "走れ\n"
          ]
        }
      ]
    },
    {
      "cell_type": "code",
      "source": [
        "# part_of_speech（品詞）：品詞,品詞細分類1,品詞細分類2,品詞細分類3という文字列。細分類が定義されていないと*となる\n",
        "print(token.part_of_speech)"
      ],
      "metadata": {
        "colab": {
          "base_uri": "https://localhost:8080/"
        },
        "id": "1y3lqPPHkzQE",
        "outputId": "379a6fb5-6d86-4645-d608-f451a557532c"
      },
      "execution_count": null,
      "outputs": [
        {
          "output_type": "stream",
          "name": "stdout",
          "text": [
            "動詞,自立,*,*\n"
          ]
        }
      ]
    },
    {
      "cell_type": "code",
      "source": [
        "# infl_type（活用型）：活用がない名詞などでは*。\n",
        "print(token.infl_type)"
      ],
      "metadata": {
        "colab": {
          "base_uri": "https://localhost:8080/"
        },
        "id": "uvESL2rElJTw",
        "outputId": "1fe98603-9a85-4ada-97fd-94e1e74af37e"
      },
      "execution_count": null,
      "outputs": [
        {
          "output_type": "stream",
          "name": "stdout",
          "text": [
            "五段・ラ行\n"
          ]
        }
      ]
    },
    {
      "cell_type": "code",
      "source": [
        "# infl_form（活用形）：活用がない名詞などでは*。\n",
        "print(token.infl_form)"
      ],
      "metadata": {
        "colab": {
          "base_uri": "https://localhost:8080/"
        },
        "id": "fy6jpC-nlWI9",
        "outputId": "0679a673-fef7-4c62-fe0d-89be464d6548"
      },
      "execution_count": null,
      "outputs": [
        {
          "output_type": "stream",
          "name": "stdout",
          "text": [
            "命令ｅ\n"
          ]
        }
      ]
    },
    {
      "cell_type": "code",
      "source": [
        "# base_form（基本形、見出し語）：活用されていない基本形（原形）。辞書の見出し語に相当する。\n",
        "print(token.base_form)"
      ],
      "metadata": {
        "colab": {
          "base_uri": "https://localhost:8080/"
        },
        "id": "e7QLLE15luei",
        "outputId": "08819593-8eab-4fc6-9024-b660d64b527b"
      },
      "execution_count": null,
      "outputs": [
        {
          "output_type": "stream",
          "name": "stdout",
          "text": [
            "走る\n"
          ]
        }
      ]
    },
    {
      "cell_type": "code",
      "source": [
        "# reading（読み）\n",
        "print(token.reading)"
      ],
      "metadata": {
        "colab": {
          "base_uri": "https://localhost:8080/"
        },
        "id": "AG-3hujYl7q1",
        "outputId": "c308a9c9-9a2c-45ae-aec1-bb3ea21694d8"
      },
      "execution_count": null,
      "outputs": [
        {
          "output_type": "stream",
          "name": "stdout",
          "text": [
            "ハシレ\n"
          ]
        }
      ]
    },
    {
      "cell_type": "code",
      "source": [
        "# phonetic（発音）\n",
        "print(token.phonetic)"
      ],
      "metadata": {
        "colab": {
          "base_uri": "https://localhost:8080/"
        },
        "id": "C4IRDgP9mEDa",
        "outputId": "2b56c214-8c92-45a8-8744-deba41e93132"
      },
      "execution_count": null,
      "outputs": [
        {
          "output_type": "stream",
          "name": "stdout",
          "text": [
            "ハシレ\n"
          ]
        }
      ]
    },
    {
      "cell_type": "code",
      "source": [],
      "metadata": {
        "id": "fadR2wGKmINJ"
      },
      "execution_count": null,
      "outputs": []
    }
  ]
}