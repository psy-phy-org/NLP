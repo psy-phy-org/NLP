{
  "nbformat": 4,
  "nbformat_minor": 0,
  "metadata": {
    "colab": {
      "provenance": [],
      "collapsed_sections": [],
      "authorship_tag": "ABX9TyOJUt6n9M2NF82iHZpAUdoF",
      "include_colab_link": true
    },
    "kernelspec": {
      "name": "python3",
      "display_name": "Python 3"
    },
    "language_info": {
      "name": "python"
    }
  },
  "cells": [
    {
      "cell_type": "markdown",
      "metadata": {
        "id": "view-in-github",
        "colab_type": "text"
      },
      "source": [
        "<a href=\"https://colab.research.google.com/github/psy-phy-org/NLP/blob/main/hyakunin_isshu.ipynb\" target=\"_parent\"><img src=\"https://colab.research.google.com/assets/colab-badge.svg\" alt=\"Open In Colab\"/></a>"
      ]
    },
    {
      "cell_type": "markdown",
      "source": [
        "# 百人一種 形態素解析\n",
        "https://rinsaka.com/python/hyaku/02-janome.html"
      ],
      "metadata": {
        "id": "LAKPX2-pJLdI"
      }
    },
    {
      "cell_type": "code",
      "source": [
        "# janomeのインストール\n",
        "!pip install janome"
      ],
      "metadata": {
        "colab": {
          "base_uri": "https://localhost:8080/"
        },
        "id": "LTz-8RO1KWNR",
        "outputId": "7638267a-6453-4560-a0b6-177a2bb4a568"
      },
      "execution_count": null,
      "outputs": [
        {
          "output_type": "stream",
          "name": "stdout",
          "text": [
            "Looking in indexes: https://pypi.org/simple, https://us-python.pkg.dev/colab-wheels/public/simple/\n",
            "Collecting janome\n",
            "  Downloading Janome-0.4.2-py2.py3-none-any.whl (19.7 MB)\n",
            "\u001b[K     |████████████████████████████████| 19.7 MB 489 kB/s \n",
            "\u001b[?25hInstalling collected packages: janome\n",
            "Successfully installed janome-0.4.2\n"
          ]
        }
      ]
    },
    {
      "cell_type": "code",
      "source": [
        "# モジュールのインポート\n",
        "from janome.tokenizer import Tokenizer\n",
        "import pandas as pd\n",
        "import numpy as np\n",
        "import matplotlib.pyplot as plt\n",
        "import itertools # 2次元リストを1次元化"
      ],
      "metadata": {
        "id": "qxx36IlkKTMj"
      },
      "execution_count": null,
      "outputs": []
    },
    {
      "cell_type": "code",
      "source": [
        "url = \"https://github.com/rinsaka/sample-data-sets/blob/master/hyaku-utf-8.csv?raw=true\"\n",
        "# CSV ファイルをデータフレームに読み込む\n",
        "df = pd.read_csv(url)\n",
        "# データフレームを表示する\n",
        "df"
      ],
      "metadata": {
        "colab": {
          "base_uri": "https://localhost:8080/",
          "height": 424
        },
        "id": "vJ-z-P2gKHrr",
        "outputId": "d7dbb4e4-3693-4065-b1f8-0bef04e98627"
      },
      "execution_count": null,
      "outputs": [
        {
          "output_type": "execute_result",
          "data": {
            "text/plain": [
              "     id                                uta  \\\n",
              "0     1     秋の田の かりほの庵の 苫をあらみ わが衣手は 露にぬれつつ   \n",
              "1     2        春すぎて 夏来にけらし 白妙の 衣ほすてふ 天の香具山   \n",
              "2     3  あしびきの 山鳥の尾の しだり尾の ながながし夜を ひとりかも寝む   \n",
              "3     4   田子の浦に うち出でて見れば 白妙の 富士の高嶺に 雪はふりつつ   \n",
              "4     5       奥山に もみぢ踏み分け 鳴く鹿の 声聞く時ぞ 秋は悲しき   \n",
              "..  ...                                ...   \n",
              "95   96     花さそふ 嵐の庭の 雪ならで ふりゆくものは わが身なりけり   \n",
              "96   97   こぬ人を まつほの浦の 夕なぎに 焼くやもしほの 身もこがれつつ   \n",
              "97   98    風そよぐ ならの小川の 夕暮れは みそぎぞ夏の しるしなりける   \n",
              "98   99     人もをし 人も恨めし あぢきなく 世を思ふゆゑに 物思ふ身は   \n",
              "99  100     百敷や ふるき軒端の しのぶにも なほあまりある 昔なりけり   \n",
              "\n",
              "                                     kana    kajin  \n",
              "0    あきのたの かりほのいほの とまをあらみ わがころもでは つゆにぬれつつ     天智天皇  \n",
              "1     はるすぎて なつきにけらし しろたへの ころもほすてふ あまのかぐやま     持統天皇  \n",
              "2     あしびきの やまどりのをの しだりをの ながながしよを ひとりかもねむ    柿本人麻呂  \n",
              "3   たごのうらに うちいでてみれば しろたへの ふじのたかねに ゆきはふりつつ     山部赤人  \n",
              "4     おくやまに もみぢふみわけ なくしかの こゑきくときぞ あきはかなしき     猿丸大夫  \n",
              "..                                    ...      ...  \n",
              "95    はなさそふ あらしのにはの ゆきならで ふりゆくものは わがみなりけり  入道前太政大臣  \n",
              "96    こぬひとを まつほのうらの ゆふなぎに やくやもしほの みもこがれつつ   権中納言定家  \n",
              "97    かぜそよぐ ならのをがはの ゆふぐれは みそぎぞなつの しるしなりける    従二位家隆  \n",
              "98   ひともをし ひともうらめし あぢきなく よをおもふゆゑに ものおもふみは     後鳥羽院  \n",
              "99    ももしきや ふるきのきばの しのぶにも なほあまりある むかしなりけり      順徳院  \n",
              "\n",
              "[100 rows x 4 columns]"
            ],
            "text/html": [
              "\n",
              "  <div id=\"df-db4dfbb4-0a33-47c4-b2dd-e834eab81511\">\n",
              "    <div class=\"colab-df-container\">\n",
              "      <div>\n",
              "<style scoped>\n",
              "    .dataframe tbody tr th:only-of-type {\n",
              "        vertical-align: middle;\n",
              "    }\n",
              "\n",
              "    .dataframe tbody tr th {\n",
              "        vertical-align: top;\n",
              "    }\n",
              "\n",
              "    .dataframe thead th {\n",
              "        text-align: right;\n",
              "    }\n",
              "</style>\n",
              "<table border=\"1\" class=\"dataframe\">\n",
              "  <thead>\n",
              "    <tr style=\"text-align: right;\">\n",
              "      <th></th>\n",
              "      <th>id</th>\n",
              "      <th>uta</th>\n",
              "      <th>kana</th>\n",
              "      <th>kajin</th>\n",
              "    </tr>\n",
              "  </thead>\n",
              "  <tbody>\n",
              "    <tr>\n",
              "      <th>0</th>\n",
              "      <td>1</td>\n",
              "      <td>秋の田の かりほの庵の 苫をあらみ わが衣手は 露にぬれつつ</td>\n",
              "      <td>あきのたの かりほのいほの とまをあらみ わがころもでは つゆにぬれつつ</td>\n",
              "      <td>天智天皇</td>\n",
              "    </tr>\n",
              "    <tr>\n",
              "      <th>1</th>\n",
              "      <td>2</td>\n",
              "      <td>春すぎて 夏来にけらし 白妙の 衣ほすてふ 天の香具山</td>\n",
              "      <td>はるすぎて なつきにけらし しろたへの ころもほすてふ あまのかぐやま</td>\n",
              "      <td>持統天皇</td>\n",
              "    </tr>\n",
              "    <tr>\n",
              "      <th>2</th>\n",
              "      <td>3</td>\n",
              "      <td>あしびきの 山鳥の尾の しだり尾の ながながし夜を ひとりかも寝む</td>\n",
              "      <td>あしびきの やまどりのをの しだりをの ながながしよを ひとりかもねむ</td>\n",
              "      <td>柿本人麻呂</td>\n",
              "    </tr>\n",
              "    <tr>\n",
              "      <th>3</th>\n",
              "      <td>4</td>\n",
              "      <td>田子の浦に うち出でて見れば 白妙の 富士の高嶺に 雪はふりつつ</td>\n",
              "      <td>たごのうらに うちいでてみれば しろたへの ふじのたかねに ゆきはふりつつ</td>\n",
              "      <td>山部赤人</td>\n",
              "    </tr>\n",
              "    <tr>\n",
              "      <th>4</th>\n",
              "      <td>5</td>\n",
              "      <td>奥山に もみぢ踏み分け 鳴く鹿の 声聞く時ぞ 秋は悲しき</td>\n",
              "      <td>おくやまに もみぢふみわけ なくしかの こゑきくときぞ あきはかなしき</td>\n",
              "      <td>猿丸大夫</td>\n",
              "    </tr>\n",
              "    <tr>\n",
              "      <th>...</th>\n",
              "      <td>...</td>\n",
              "      <td>...</td>\n",
              "      <td>...</td>\n",
              "      <td>...</td>\n",
              "    </tr>\n",
              "    <tr>\n",
              "      <th>95</th>\n",
              "      <td>96</td>\n",
              "      <td>花さそふ 嵐の庭の 雪ならで ふりゆくものは わが身なりけり</td>\n",
              "      <td>はなさそふ あらしのにはの ゆきならで ふりゆくものは わがみなりけり</td>\n",
              "      <td>入道前太政大臣</td>\n",
              "    </tr>\n",
              "    <tr>\n",
              "      <th>96</th>\n",
              "      <td>97</td>\n",
              "      <td>こぬ人を まつほの浦の 夕なぎに 焼くやもしほの 身もこがれつつ</td>\n",
              "      <td>こぬひとを まつほのうらの ゆふなぎに やくやもしほの みもこがれつつ</td>\n",
              "      <td>権中納言定家</td>\n",
              "    </tr>\n",
              "    <tr>\n",
              "      <th>97</th>\n",
              "      <td>98</td>\n",
              "      <td>風そよぐ ならの小川の 夕暮れは みそぎぞ夏の しるしなりける</td>\n",
              "      <td>かぜそよぐ ならのをがはの ゆふぐれは みそぎぞなつの しるしなりける</td>\n",
              "      <td>従二位家隆</td>\n",
              "    </tr>\n",
              "    <tr>\n",
              "      <th>98</th>\n",
              "      <td>99</td>\n",
              "      <td>人もをし 人も恨めし あぢきなく 世を思ふゆゑに 物思ふ身は</td>\n",
              "      <td>ひともをし ひともうらめし あぢきなく よをおもふゆゑに ものおもふみは</td>\n",
              "      <td>後鳥羽院</td>\n",
              "    </tr>\n",
              "    <tr>\n",
              "      <th>99</th>\n",
              "      <td>100</td>\n",
              "      <td>百敷や ふるき軒端の しのぶにも なほあまりある 昔なりけり</td>\n",
              "      <td>ももしきや ふるきのきばの しのぶにも なほあまりある むかしなりけり</td>\n",
              "      <td>順徳院</td>\n",
              "    </tr>\n",
              "  </tbody>\n",
              "</table>\n",
              "<p>100 rows × 4 columns</p>\n",
              "</div>\n",
              "      <button class=\"colab-df-convert\" onclick=\"convertToInteractive('df-db4dfbb4-0a33-47c4-b2dd-e834eab81511')\"\n",
              "              title=\"Convert this dataframe to an interactive table.\"\n",
              "              style=\"display:none;\">\n",
              "        \n",
              "  <svg xmlns=\"http://www.w3.org/2000/svg\" height=\"24px\"viewBox=\"0 0 24 24\"\n",
              "       width=\"24px\">\n",
              "    <path d=\"M0 0h24v24H0V0z\" fill=\"none\"/>\n",
              "    <path d=\"M18.56 5.44l.94 2.06.94-2.06 2.06-.94-2.06-.94-.94-2.06-.94 2.06-2.06.94zm-11 1L8.5 8.5l.94-2.06 2.06-.94-2.06-.94L8.5 2.5l-.94 2.06-2.06.94zm10 10l.94 2.06.94-2.06 2.06-.94-2.06-.94-.94-2.06-.94 2.06-2.06.94z\"/><path d=\"M17.41 7.96l-1.37-1.37c-.4-.4-.92-.59-1.43-.59-.52 0-1.04.2-1.43.59L10.3 9.45l-7.72 7.72c-.78.78-.78 2.05 0 2.83L4 21.41c.39.39.9.59 1.41.59.51 0 1.02-.2 1.41-.59l7.78-7.78 2.81-2.81c.8-.78.8-2.07 0-2.86zM5.41 20L4 18.59l7.72-7.72 1.47 1.35L5.41 20z\"/>\n",
              "  </svg>\n",
              "      </button>\n",
              "      \n",
              "  <style>\n",
              "    .colab-df-container {\n",
              "      display:flex;\n",
              "      flex-wrap:wrap;\n",
              "      gap: 12px;\n",
              "    }\n",
              "\n",
              "    .colab-df-convert {\n",
              "      background-color: #E8F0FE;\n",
              "      border: none;\n",
              "      border-radius: 50%;\n",
              "      cursor: pointer;\n",
              "      display: none;\n",
              "      fill: #1967D2;\n",
              "      height: 32px;\n",
              "      padding: 0 0 0 0;\n",
              "      width: 32px;\n",
              "    }\n",
              "\n",
              "    .colab-df-convert:hover {\n",
              "      background-color: #E2EBFA;\n",
              "      box-shadow: 0px 1px 2px rgba(60, 64, 67, 0.3), 0px 1px 3px 1px rgba(60, 64, 67, 0.15);\n",
              "      fill: #174EA6;\n",
              "    }\n",
              "\n",
              "    [theme=dark] .colab-df-convert {\n",
              "      background-color: #3B4455;\n",
              "      fill: #D2E3FC;\n",
              "    }\n",
              "\n",
              "    [theme=dark] .colab-df-convert:hover {\n",
              "      background-color: #434B5C;\n",
              "      box-shadow: 0px 1px 3px 1px rgba(0, 0, 0, 0.15);\n",
              "      filter: drop-shadow(0px 1px 2px rgba(0, 0, 0, 0.3));\n",
              "      fill: #FFFFFF;\n",
              "    }\n",
              "  </style>\n",
              "\n",
              "      <script>\n",
              "        const buttonEl =\n",
              "          document.querySelector('#df-db4dfbb4-0a33-47c4-b2dd-e834eab81511 button.colab-df-convert');\n",
              "        buttonEl.style.display =\n",
              "          google.colab.kernel.accessAllowed ? 'block' : 'none';\n",
              "\n",
              "        async function convertToInteractive(key) {\n",
              "          const element = document.querySelector('#df-db4dfbb4-0a33-47c4-b2dd-e834eab81511');\n",
              "          const dataTable =\n",
              "            await google.colab.kernel.invokeFunction('convertToInteractive',\n",
              "                                                     [key], {});\n",
              "          if (!dataTable) return;\n",
              "\n",
              "          const docLinkHtml = 'Like what you see? Visit the ' +\n",
              "            '<a target=\"_blank\" href=https://colab.research.google.com/notebooks/data_table.ipynb>data table notebook</a>'\n",
              "            + ' to learn more about interactive tables.';\n",
              "          element.innerHTML = '';\n",
              "          dataTable['output_type'] = 'display_data';\n",
              "          await google.colab.output.renderOutput(dataTable, element);\n",
              "          const docLink = document.createElement('div');\n",
              "          docLink.innerHTML = docLinkHtml;\n",
              "          element.appendChild(docLink);\n",
              "        }\n",
              "      </script>\n",
              "    </div>\n",
              "  </div>\n",
              "  "
            ]
          },
          "metadata": {},
          "execution_count": 5
        }
      ]
    },
    {
      "cell_type": "code",
      "source": [
        "df[df.index == 0]"
      ],
      "metadata": {
        "colab": {
          "base_uri": "https://localhost:8080/",
          "height": 81
        },
        "id": "61esM89mKLoP",
        "outputId": "21afe93b-28dd-469f-9d92-bc4dca8485a6"
      },
      "execution_count": null,
      "outputs": [
        {
          "output_type": "execute_result",
          "data": {
            "text/plain": [
              "   id                             uta                                  kana  \\\n",
              "0   1  秋の田の かりほの庵の 苫をあらみ わが衣手は 露にぬれつつ  あきのたの かりほのいほの とまをあらみ わがころもでは つゆにぬれつつ   \n",
              "\n",
              "  kajin  \n",
              "0  天智天皇  "
            ],
            "text/html": [
              "\n",
              "  <div id=\"df-7dc66e3b-13dc-43a9-a7ae-d56d3defb2d2\">\n",
              "    <div class=\"colab-df-container\">\n",
              "      <div>\n",
              "<style scoped>\n",
              "    .dataframe tbody tr th:only-of-type {\n",
              "        vertical-align: middle;\n",
              "    }\n",
              "\n",
              "    .dataframe tbody tr th {\n",
              "        vertical-align: top;\n",
              "    }\n",
              "\n",
              "    .dataframe thead th {\n",
              "        text-align: right;\n",
              "    }\n",
              "</style>\n",
              "<table border=\"1\" class=\"dataframe\">\n",
              "  <thead>\n",
              "    <tr style=\"text-align: right;\">\n",
              "      <th></th>\n",
              "      <th>id</th>\n",
              "      <th>uta</th>\n",
              "      <th>kana</th>\n",
              "      <th>kajin</th>\n",
              "    </tr>\n",
              "  </thead>\n",
              "  <tbody>\n",
              "    <tr>\n",
              "      <th>0</th>\n",
              "      <td>1</td>\n",
              "      <td>秋の田の かりほの庵の 苫をあらみ わが衣手は 露にぬれつつ</td>\n",
              "      <td>あきのたの かりほのいほの とまをあらみ わがころもでは つゆにぬれつつ</td>\n",
              "      <td>天智天皇</td>\n",
              "    </tr>\n",
              "  </tbody>\n",
              "</table>\n",
              "</div>\n",
              "      <button class=\"colab-df-convert\" onclick=\"convertToInteractive('df-7dc66e3b-13dc-43a9-a7ae-d56d3defb2d2')\"\n",
              "              title=\"Convert this dataframe to an interactive table.\"\n",
              "              style=\"display:none;\">\n",
              "        \n",
              "  <svg xmlns=\"http://www.w3.org/2000/svg\" height=\"24px\"viewBox=\"0 0 24 24\"\n",
              "       width=\"24px\">\n",
              "    <path d=\"M0 0h24v24H0V0z\" fill=\"none\"/>\n",
              "    <path d=\"M18.56 5.44l.94 2.06.94-2.06 2.06-.94-2.06-.94-.94-2.06-.94 2.06-2.06.94zm-11 1L8.5 8.5l.94-2.06 2.06-.94-2.06-.94L8.5 2.5l-.94 2.06-2.06.94zm10 10l.94 2.06.94-2.06 2.06-.94-2.06-.94-.94-2.06-.94 2.06-2.06.94z\"/><path d=\"M17.41 7.96l-1.37-1.37c-.4-.4-.92-.59-1.43-.59-.52 0-1.04.2-1.43.59L10.3 9.45l-7.72 7.72c-.78.78-.78 2.05 0 2.83L4 21.41c.39.39.9.59 1.41.59.51 0 1.02-.2 1.41-.59l7.78-7.78 2.81-2.81c.8-.78.8-2.07 0-2.86zM5.41 20L4 18.59l7.72-7.72 1.47 1.35L5.41 20z\"/>\n",
              "  </svg>\n",
              "      </button>\n",
              "      \n",
              "  <style>\n",
              "    .colab-df-container {\n",
              "      display:flex;\n",
              "      flex-wrap:wrap;\n",
              "      gap: 12px;\n",
              "    }\n",
              "\n",
              "    .colab-df-convert {\n",
              "      background-color: #E8F0FE;\n",
              "      border: none;\n",
              "      border-radius: 50%;\n",
              "      cursor: pointer;\n",
              "      display: none;\n",
              "      fill: #1967D2;\n",
              "      height: 32px;\n",
              "      padding: 0 0 0 0;\n",
              "      width: 32px;\n",
              "    }\n",
              "\n",
              "    .colab-df-convert:hover {\n",
              "      background-color: #E2EBFA;\n",
              "      box-shadow: 0px 1px 2px rgba(60, 64, 67, 0.3), 0px 1px 3px 1px rgba(60, 64, 67, 0.15);\n",
              "      fill: #174EA6;\n",
              "    }\n",
              "\n",
              "    [theme=dark] .colab-df-convert {\n",
              "      background-color: #3B4455;\n",
              "      fill: #D2E3FC;\n",
              "    }\n",
              "\n",
              "    [theme=dark] .colab-df-convert:hover {\n",
              "      background-color: #434B5C;\n",
              "      box-shadow: 0px 1px 3px 1px rgba(0, 0, 0, 0.15);\n",
              "      filter: drop-shadow(0px 1px 2px rgba(0, 0, 0, 0.3));\n",
              "      fill: #FFFFFF;\n",
              "    }\n",
              "  </style>\n",
              "\n",
              "      <script>\n",
              "        const buttonEl =\n",
              "          document.querySelector('#df-7dc66e3b-13dc-43a9-a7ae-d56d3defb2d2 button.colab-df-convert');\n",
              "        buttonEl.style.display =\n",
              "          google.colab.kernel.accessAllowed ? 'block' : 'none';\n",
              "\n",
              "        async function convertToInteractive(key) {\n",
              "          const element = document.querySelector('#df-7dc66e3b-13dc-43a9-a7ae-d56d3defb2d2');\n",
              "          const dataTable =\n",
              "            await google.colab.kernel.invokeFunction('convertToInteractive',\n",
              "                                                     [key], {});\n",
              "          if (!dataTable) return;\n",
              "\n",
              "          const docLinkHtml = 'Like what you see? Visit the ' +\n",
              "            '<a target=\"_blank\" href=https://colab.research.google.com/notebooks/data_table.ipynb>data table notebook</a>'\n",
              "            + ' to learn more about interactive tables.';\n",
              "          element.innerHTML = '';\n",
              "          dataTable['output_type'] = 'display_data';\n",
              "          await google.colab.output.renderOutput(dataTable, element);\n",
              "          const docLink = document.createElement('div');\n",
              "          docLink.innerHTML = docLinkHtml;\n",
              "          element.appendChild(docLink);\n",
              "        }\n",
              "      </script>\n",
              "    </div>\n",
              "  </div>\n",
              "  "
            ]
          },
          "metadata": {},
          "execution_count": 6
        }
      ]
    },
    {
      "cell_type": "code",
      "source": [
        "df[df.id == 1]"
      ],
      "metadata": {
        "colab": {
          "base_uri": "https://localhost:8080/",
          "height": 81
        },
        "id": "4osjAVymKqsg",
        "outputId": "542b5e10-b640-4f9c-ea16-b46ab9c45135"
      },
      "execution_count": null,
      "outputs": [
        {
          "output_type": "execute_result",
          "data": {
            "text/plain": [
              "   id                             uta                                  kana  \\\n",
              "0   1  秋の田の かりほの庵の 苫をあらみ わが衣手は 露にぬれつつ  あきのたの かりほのいほの とまをあらみ わがころもでは つゆにぬれつつ   \n",
              "\n",
              "  kajin  \n",
              "0  天智天皇  "
            ],
            "text/html": [
              "\n",
              "  <div id=\"df-68b2a4f8-83bd-452d-9e0f-c137cc9c5e57\">\n",
              "    <div class=\"colab-df-container\">\n",
              "      <div>\n",
              "<style scoped>\n",
              "    .dataframe tbody tr th:only-of-type {\n",
              "        vertical-align: middle;\n",
              "    }\n",
              "\n",
              "    .dataframe tbody tr th {\n",
              "        vertical-align: top;\n",
              "    }\n",
              "\n",
              "    .dataframe thead th {\n",
              "        text-align: right;\n",
              "    }\n",
              "</style>\n",
              "<table border=\"1\" class=\"dataframe\">\n",
              "  <thead>\n",
              "    <tr style=\"text-align: right;\">\n",
              "      <th></th>\n",
              "      <th>id</th>\n",
              "      <th>uta</th>\n",
              "      <th>kana</th>\n",
              "      <th>kajin</th>\n",
              "    </tr>\n",
              "  </thead>\n",
              "  <tbody>\n",
              "    <tr>\n",
              "      <th>0</th>\n",
              "      <td>1</td>\n",
              "      <td>秋の田の かりほの庵の 苫をあらみ わが衣手は 露にぬれつつ</td>\n",
              "      <td>あきのたの かりほのいほの とまをあらみ わがころもでは つゆにぬれつつ</td>\n",
              "      <td>天智天皇</td>\n",
              "    </tr>\n",
              "  </tbody>\n",
              "</table>\n",
              "</div>\n",
              "      <button class=\"colab-df-convert\" onclick=\"convertToInteractive('df-68b2a4f8-83bd-452d-9e0f-c137cc9c5e57')\"\n",
              "              title=\"Convert this dataframe to an interactive table.\"\n",
              "              style=\"display:none;\">\n",
              "        \n",
              "  <svg xmlns=\"http://www.w3.org/2000/svg\" height=\"24px\"viewBox=\"0 0 24 24\"\n",
              "       width=\"24px\">\n",
              "    <path d=\"M0 0h24v24H0V0z\" fill=\"none\"/>\n",
              "    <path d=\"M18.56 5.44l.94 2.06.94-2.06 2.06-.94-2.06-.94-.94-2.06-.94 2.06-2.06.94zm-11 1L8.5 8.5l.94-2.06 2.06-.94-2.06-.94L8.5 2.5l-.94 2.06-2.06.94zm10 10l.94 2.06.94-2.06 2.06-.94-2.06-.94-.94-2.06-.94 2.06-2.06.94z\"/><path d=\"M17.41 7.96l-1.37-1.37c-.4-.4-.92-.59-1.43-.59-.52 0-1.04.2-1.43.59L10.3 9.45l-7.72 7.72c-.78.78-.78 2.05 0 2.83L4 21.41c.39.39.9.59 1.41.59.51 0 1.02-.2 1.41-.59l7.78-7.78 2.81-2.81c.8-.78.8-2.07 0-2.86zM5.41 20L4 18.59l7.72-7.72 1.47 1.35L5.41 20z\"/>\n",
              "  </svg>\n",
              "      </button>\n",
              "      \n",
              "  <style>\n",
              "    .colab-df-container {\n",
              "      display:flex;\n",
              "      flex-wrap:wrap;\n",
              "      gap: 12px;\n",
              "    }\n",
              "\n",
              "    .colab-df-convert {\n",
              "      background-color: #E8F0FE;\n",
              "      border: none;\n",
              "      border-radius: 50%;\n",
              "      cursor: pointer;\n",
              "      display: none;\n",
              "      fill: #1967D2;\n",
              "      height: 32px;\n",
              "      padding: 0 0 0 0;\n",
              "      width: 32px;\n",
              "    }\n",
              "\n",
              "    .colab-df-convert:hover {\n",
              "      background-color: #E2EBFA;\n",
              "      box-shadow: 0px 1px 2px rgba(60, 64, 67, 0.3), 0px 1px 3px 1px rgba(60, 64, 67, 0.15);\n",
              "      fill: #174EA6;\n",
              "    }\n",
              "\n",
              "    [theme=dark] .colab-df-convert {\n",
              "      background-color: #3B4455;\n",
              "      fill: #D2E3FC;\n",
              "    }\n",
              "\n",
              "    [theme=dark] .colab-df-convert:hover {\n",
              "      background-color: #434B5C;\n",
              "      box-shadow: 0px 1px 3px 1px rgba(0, 0, 0, 0.15);\n",
              "      filter: drop-shadow(0px 1px 2px rgba(0, 0, 0, 0.3));\n",
              "      fill: #FFFFFF;\n",
              "    }\n",
              "  </style>\n",
              "\n",
              "      <script>\n",
              "        const buttonEl =\n",
              "          document.querySelector('#df-68b2a4f8-83bd-452d-9e0f-c137cc9c5e57 button.colab-df-convert');\n",
              "        buttonEl.style.display =\n",
              "          google.colab.kernel.accessAllowed ? 'block' : 'none';\n",
              "\n",
              "        async function convertToInteractive(key) {\n",
              "          const element = document.querySelector('#df-68b2a4f8-83bd-452d-9e0f-c137cc9c5e57');\n",
              "          const dataTable =\n",
              "            await google.colab.kernel.invokeFunction('convertToInteractive',\n",
              "                                                     [key], {});\n",
              "          if (!dataTable) return;\n",
              "\n",
              "          const docLinkHtml = 'Like what you see? Visit the ' +\n",
              "            '<a target=\"_blank\" href=https://colab.research.google.com/notebooks/data_table.ipynb>data table notebook</a>'\n",
              "            + ' to learn more about interactive tables.';\n",
              "          element.innerHTML = '';\n",
              "          dataTable['output_type'] = 'display_data';\n",
              "          await google.colab.output.renderOutput(dataTable, element);\n",
              "          const docLink = document.createElement('div');\n",
              "          docLink.innerHTML = docLinkHtml;\n",
              "          element.appendChild(docLink);\n",
              "        }\n",
              "      </script>\n",
              "    </div>\n",
              "  </div>\n",
              "  "
            ]
          },
          "metadata": {},
          "execution_count": 7
        }
      ]
    },
    {
      "cell_type": "code",
      "source": [
        "# かな以外の列\n",
        "df[df.id == 1][['id', 'uta', 'kajin']]"
      ],
      "metadata": {
        "colab": {
          "base_uri": "https://localhost:8080/",
          "height": 81
        },
        "id": "2RGudY7fKuJW",
        "outputId": "cb453029-7770-4176-d64b-f199937f9ffd"
      },
      "execution_count": null,
      "outputs": [
        {
          "output_type": "execute_result",
          "data": {
            "text/plain": [
              "   id                             uta kajin\n",
              "0   1  秋の田の かりほの庵の 苫をあらみ わが衣手は 露にぬれつつ  天智天皇"
            ],
            "text/html": [
              "\n",
              "  <div id=\"df-99bda98c-a95c-488a-87bc-9f5eb3e4f74b\">\n",
              "    <div class=\"colab-df-container\">\n",
              "      <div>\n",
              "<style scoped>\n",
              "    .dataframe tbody tr th:only-of-type {\n",
              "        vertical-align: middle;\n",
              "    }\n",
              "\n",
              "    .dataframe tbody tr th {\n",
              "        vertical-align: top;\n",
              "    }\n",
              "\n",
              "    .dataframe thead th {\n",
              "        text-align: right;\n",
              "    }\n",
              "</style>\n",
              "<table border=\"1\" class=\"dataframe\">\n",
              "  <thead>\n",
              "    <tr style=\"text-align: right;\">\n",
              "      <th></th>\n",
              "      <th>id</th>\n",
              "      <th>uta</th>\n",
              "      <th>kajin</th>\n",
              "    </tr>\n",
              "  </thead>\n",
              "  <tbody>\n",
              "    <tr>\n",
              "      <th>0</th>\n",
              "      <td>1</td>\n",
              "      <td>秋の田の かりほの庵の 苫をあらみ わが衣手は 露にぬれつつ</td>\n",
              "      <td>天智天皇</td>\n",
              "    </tr>\n",
              "  </tbody>\n",
              "</table>\n",
              "</div>\n",
              "      <button class=\"colab-df-convert\" onclick=\"convertToInteractive('df-99bda98c-a95c-488a-87bc-9f5eb3e4f74b')\"\n",
              "              title=\"Convert this dataframe to an interactive table.\"\n",
              "              style=\"display:none;\">\n",
              "        \n",
              "  <svg xmlns=\"http://www.w3.org/2000/svg\" height=\"24px\"viewBox=\"0 0 24 24\"\n",
              "       width=\"24px\">\n",
              "    <path d=\"M0 0h24v24H0V0z\" fill=\"none\"/>\n",
              "    <path d=\"M18.56 5.44l.94 2.06.94-2.06 2.06-.94-2.06-.94-.94-2.06-.94 2.06-2.06.94zm-11 1L8.5 8.5l.94-2.06 2.06-.94-2.06-.94L8.5 2.5l-.94 2.06-2.06.94zm10 10l.94 2.06.94-2.06 2.06-.94-2.06-.94-.94-2.06-.94 2.06-2.06.94z\"/><path d=\"M17.41 7.96l-1.37-1.37c-.4-.4-.92-.59-1.43-.59-.52 0-1.04.2-1.43.59L10.3 9.45l-7.72 7.72c-.78.78-.78 2.05 0 2.83L4 21.41c.39.39.9.59 1.41.59.51 0 1.02-.2 1.41-.59l7.78-7.78 2.81-2.81c.8-.78.8-2.07 0-2.86zM5.41 20L4 18.59l7.72-7.72 1.47 1.35L5.41 20z\"/>\n",
              "  </svg>\n",
              "      </button>\n",
              "      \n",
              "  <style>\n",
              "    .colab-df-container {\n",
              "      display:flex;\n",
              "      flex-wrap:wrap;\n",
              "      gap: 12px;\n",
              "    }\n",
              "\n",
              "    .colab-df-convert {\n",
              "      background-color: #E8F0FE;\n",
              "      border: none;\n",
              "      border-radius: 50%;\n",
              "      cursor: pointer;\n",
              "      display: none;\n",
              "      fill: #1967D2;\n",
              "      height: 32px;\n",
              "      padding: 0 0 0 0;\n",
              "      width: 32px;\n",
              "    }\n",
              "\n",
              "    .colab-df-convert:hover {\n",
              "      background-color: #E2EBFA;\n",
              "      box-shadow: 0px 1px 2px rgba(60, 64, 67, 0.3), 0px 1px 3px 1px rgba(60, 64, 67, 0.15);\n",
              "      fill: #174EA6;\n",
              "    }\n",
              "\n",
              "    [theme=dark] .colab-df-convert {\n",
              "      background-color: #3B4455;\n",
              "      fill: #D2E3FC;\n",
              "    }\n",
              "\n",
              "    [theme=dark] .colab-df-convert:hover {\n",
              "      background-color: #434B5C;\n",
              "      box-shadow: 0px 1px 3px 1px rgba(0, 0, 0, 0.15);\n",
              "      filter: drop-shadow(0px 1px 2px rgba(0, 0, 0, 0.3));\n",
              "      fill: #FFFFFF;\n",
              "    }\n",
              "  </style>\n",
              "\n",
              "      <script>\n",
              "        const buttonEl =\n",
              "          document.querySelector('#df-99bda98c-a95c-488a-87bc-9f5eb3e4f74b button.colab-df-convert');\n",
              "        buttonEl.style.display =\n",
              "          google.colab.kernel.accessAllowed ? 'block' : 'none';\n",
              "\n",
              "        async function convertToInteractive(key) {\n",
              "          const element = document.querySelector('#df-99bda98c-a95c-488a-87bc-9f5eb3e4f74b');\n",
              "          const dataTable =\n",
              "            await google.colab.kernel.invokeFunction('convertToInteractive',\n",
              "                                                     [key], {});\n",
              "          if (!dataTable) return;\n",
              "\n",
              "          const docLinkHtml = 'Like what you see? Visit the ' +\n",
              "            '<a target=\"_blank\" href=https://colab.research.google.com/notebooks/data_table.ipynb>data table notebook</a>'\n",
              "            + ' to learn more about interactive tables.';\n",
              "          element.innerHTML = '';\n",
              "          dataTable['output_type'] = 'display_data';\n",
              "          await google.colab.output.renderOutput(dataTable, element);\n",
              "          const docLink = document.createElement('div');\n",
              "          docLink.innerHTML = docLinkHtml;\n",
              "          element.appendChild(docLink);\n",
              "        }\n",
              "      </script>\n",
              "    </div>\n",
              "  </div>\n",
              "  "
            ]
          },
          "metadata": {},
          "execution_count": 9
        }
      ]
    },
    {
      "cell_type": "code",
      "source": [
        "# データフレームから「うた(uta)」を取り出して，形態素解析による分かち書きを行い，索引語頻度を求めてみる\n",
        "# 「id」列と「uta」列をデータフレームから取り出して，NumPy の2次元配列に格納する\n",
        "uta = df.loc[:, ['id','uta']].values\n",
        "uta"
      ],
      "metadata": {
        "colab": {
          "base_uri": "https://localhost:8080/"
        },
        "id": "4hbqv16GK20q",
        "outputId": "a7c0b829-8340-4901-dfb9-18babbc0e559"
      },
      "execution_count": null,
      "outputs": [
        {
          "output_type": "execute_result",
          "data": {
            "text/plain": [
              "array([[1, '秋の田の かりほの庵の 苫をあらみ わが衣手は 露にぬれつつ'],\n",
              "       [2, '春すぎて 夏来にけらし 白妙の 衣ほすてふ 天の香具山'],\n",
              "       [3, 'あしびきの 山鳥の尾の しだり尾の ながながし夜を ひとりかも寝む'],\n",
              "       [4, '田子の浦に うち出でて見れば 白妙の 富士の高嶺に 雪はふりつつ'],\n",
              "       [5, '奥山に もみぢ踏み分け 鳴く鹿の 声聞く時ぞ 秋は悲しき'],\n",
              "       [6, 'かささぎの 渡せる橋に おく霜の 白きを見れば 夜ぞふけにける'],\n",
              "       [7, '天の原 ふりさけ見れば 春日なる 三笠の山に 出でし月かも'],\n",
              "       [8, 'わが庵は 都のたつみ しかぞすむ 世をうぢ山と 人はいふなり'],\n",
              "       [9, '花の色は うつりにけりな いたづらに わが身世にふる ながめせしまに'],\n",
              "       [10, 'これやこの 行くも帰るも 別れては 知るも知らぬも あふ坂の関'],\n",
              "       [11, 'わたの原 八十島かけて 漕ぎ出でぬと 人には告げよ あまのつり舟'],\n",
              "       [12, '天つ風 雲のかよひ路 吹きとぢよ をとめの姿 しばしとどめむ'],\n",
              "       [13, 'つくばねの 峰より落つる みなの川 こひぞつもりて 淵となりぬる'],\n",
              "       [14, '陸奥の しのぶもぢずり 誰ゆゑに 乱れそめにし われならなくに'],\n",
              "       [15, '君がため 春の野に出でて 若菜つむ わが衣手に 雪はふりつつ'],\n",
              "       [16, '立ち別れ いなばの山の 峰に生ふる まつとし聞かば 今帰り来む'],\n",
              "       [17, 'ちはやぶる 神代もきかず 竜田川 からくれなゐに 水くくるとは'],\n",
              "       [18, '住の江の 岸による波 よるさへや 夢の通ひ路 人めよくらむ'],\n",
              "       [19, '難波潟 みじかき葦の ふしの間も あはでこの世を 過ぐしてよとや'],\n",
              "       [20, 'わびぬれば 今はた同じ 難波なる みをつくしても あはむとぞ思ふ'],\n",
              "       [21, '今こむと 言ひしばかりに 長月の 有明の月を 待ちいでつるかな'],\n",
              "       [22, '吹くからに 秋の草木の しをるれば むべ山風を 嵐といふらむ'],\n",
              "       [23, '月みれば 千々に物こそ 悲しけれ 我が身ひとつの 秋にはあらねど'],\n",
              "       [24, 'このたびは ぬさもとりあへず 手向山 紅葉のにしき 神のまにまに'],\n",
              "       [25, '名にしおはば 逢坂山の さねかづら 人に知られで くるよしもがな'],\n",
              "       [26, '小倉山 峰のもみぢ葉 心あらば 今ひとたびの みゆき待たなむ'],\n",
              "       [27, 'みかの原 わきて流るる いづみ川 いつみきとてか 恋しかるらむ'],\n",
              "       [28, '山里は 冬ぞさびしさ まさりける 人めも草も かれぬと思へば'],\n",
              "       [29, '心あてに 折らばや折らむ 初霜の おきまどはせる 白菊の花'],\n",
              "       [30, 'ありあけの つれなく見えし 別れより 暁ばかり 憂きものはなし'],\n",
              "       [31, '朝ぼらけ ありあけの月と 見るまでに 吉野の里に 降れる白雪'],\n",
              "       [32, '山川に 風のかけたる しがらみは 流れもあへぬ 紅葉なりけり'],\n",
              "       [33, 'ひさかたの 光のどけき 春の日に しづ心なく 花の散るらむ'],\n",
              "       [34, '誰をかも 知る人にせむ 高砂の 松も昔の 友ならなくに'],\n",
              "       [35, '人はいさ 心も知らず ふるさとは 花ぞ昔の 香に匂ひける'],\n",
              "       [36, '夏の夜は まだ宵ながら 明けぬるを 雲のいづこに 月やどるらむ'],\n",
              "       [37, '白露に 風の吹きしく 秋の野は つらぬきとめぬ 玉ぞ散りける'],\n",
              "       [38, '忘らるる 身をば思はず 誓ひてし 人のいのちの 惜しくもあるかな'],\n",
              "       [39, '浅茅生の 小野の篠原 しのぶれど あまりてなどか 人の恋しき'],\n",
              "       [40, 'しのぶれど 色に出でにけり わが恋は 物や思ふと 人の問ふまで'],\n",
              "       [41, '恋すてふ わが名はまだき 立ちにけり 人知れずこそ 思ひ初めしか'],\n",
              "       [42, '契りきな かたみに袖を しぼりつつ 末の松山 波越さじとは'],\n",
              "       [43, 'あひ見ての のちの心に くらぶれば 昔は物を 思はざりけり'],\n",
              "       [44, 'あふことの たえてしなくは なかなかに 人をも身をも 恨みざらまし'],\n",
              "       [45, 'あはれとも いふべき人は 思ほえで 身のいたづらに なりぬべきかな'],\n",
              "       [46, '由良のとを 渡る舟人 かぢを絶え ゆくへも知らぬ 恋の道かな'],\n",
              "       [47, '八重むぐら しげれる宿の さびしきに 人こそ見えね 秋は来にけり'],\n",
              "       [48, '風をいたみ 岩うつ波の おのれのみ くだけて物を 思ふころかな'],\n",
              "       [49, 'みかきもり 衛士のたく火の 夜は燃え 昼は消えつつ 物をこそ思へ'],\n",
              "       [50, '君がため 惜しからざりし 命さへ 長くもがなと 思ひけるかな'],\n",
              "       [51, 'かくとだに えやはいぶきの さしも草 さしも知らじな もゆる思ひを'],\n",
              "       [52, '明けぬれば 暮るるものとは 知りながら なほうらめしき 朝ぼらけかな'],\n",
              "       [53, '嘆きつつ ひとり寝る夜の 明くるまは いかに久しき ものとかは知る'],\n",
              "       [54, '忘れじの 行く末までは かたければ 今日をかぎりの 命ともがな'],\n",
              "       [55, '滝の音は 絶えて久しく なりぬれど 名こそ流れて なほ聞こえけれ'],\n",
              "       [56, 'あらざらむ この世のほかの 思ひ出に 今ひとたびの 逢ふこともがな'],\n",
              "       [57, 'めぐりあひて 見しやそれとも 分かぬまに 雲がくれにし 夜半の月かな'],\n",
              "       [58, 'ありま山 ゐなの笹原 風吹けば いでそよ人を 忘れやはする'],\n",
              "       [59, 'やすらはで 寝なましものを さ夜更けて かたぶくまでの 月を見しかな'],\n",
              "       [60, '大江山 いく野の道の 遠ければ まだふみも見ず 天の橋立'],\n",
              "       [61, 'いにしへの 奈良の都の 八重桜 けふ九重に にほひぬるかな'],\n",
              "       [62, '夜をこめて 鳥のそらねは はかるとも よに逢坂の 関はゆるさじ'],\n",
              "       [63, '今はただ 思ひ絶えなむ とばかりを 人づてならで 言ふよしもがな'],\n",
              "       [64, '朝ぼらけ 宇治の川霧 たえだえに あらはれわたる 瀬々の網代木'],\n",
              "       [65, '恨みわび ほさぬ袖だに あるものを 恋にくちなむ 名こそ惜しけれ'],\n",
              "       [66, 'もろともに あはれと思へ 山桜 花よりほかに 知る人もなし'],\n",
              "       [67, '春の夜の 夢ばかりなる 手枕に かひなく立たむ 名こそ惜しけれ'],\n",
              "       [68, '心にも あらでうき世に ながらへば 恋しかるべき 夜半の月かな'],\n",
              "       [69, 'あらし吹く み室の山の もみぢ葉は 竜田の川の 錦なりけり'],\n",
              "       [70, 'さびしさに 宿をたち出でて ながむれば いづこも同じ 秋の夕暮れ'],\n",
              "       [71, '夕されば 門田の稲葉 おとづれて 葦のまろやに 秋風ぞ吹く'],\n",
              "       [72, '音にきく たかしの浜の あだ波は かけじや袖の ぬれもこそすれ'],\n",
              "       [73, '高砂の をのへの桜 咲きにけり 外山のかすみ 立たずもあらなむ'],\n",
              "       [74, '憂かりける 人を初瀬の 山おろしよ はげしかれとは 祈らぬものを'],\n",
              "       [75, '契りおきし させもが露を いのちにて あはれ今年の 秋もいぬめり'],\n",
              "       [76, 'わたの原 こぎ出でてみれば 久方の 雲ゐにまがふ 冲つ白波'],\n",
              "       [77, '瀬をはやみ 岩にせかるる 滝川の われても末に あはむとぞ思ふ'],\n",
              "       [78, '淡路島 かよふ千鳥の 鳴く声に 幾夜ねざめぬ 須磨の関守'],\n",
              "       [79, '秋風に たなびく雲の たえ間より もれ出づる月の かげのさやけさ'],\n",
              "       [80, '長からむ 心も知らず 黒髪の 乱れてけさは 物をこそ思へ'],\n",
              "       [81, 'ほととぎす 鳴きつる方を ながむれば ただありあけの 月ぞ残れる'],\n",
              "       [82, '思ひわび さてもいのちは あるものを 憂きにたへぬは 涙なりけり'],\n",
              "       [83, '世の中よ 道こそなけれ 思ひ入る 山の奥にも 鹿ぞ鳴くなる'],\n",
              "       [84, 'ながらへば またこのごろや しのばれむ 憂しと見し世ぞ 今は恋しき'],\n",
              "       [85, '夜もすがら 物思ふころは 明けやらで 閨のひまさへ つれなかりけり'],\n",
              "       [86, '嘆けとて 月やは物を 思はする かこち顔なる わが涙かな'],\n",
              "       [87, '村雨の 露もまだひぬ まきの葉に 霧立ちのぼる 秋の夕暮れ'],\n",
              "       [88, '難波江の 葦のかりねの ひとよゆゑ みをつくしてや 恋ひわたるべき'],\n",
              "       [89, '玉のをよ たえなばたえね ながらへば 忍ぶることの 弱りもぞする'],\n",
              "       [90, '見せばやな 雄島のあまの 袖だにも 濡れにぞ濡れし 色は変はらず'],\n",
              "       [91, 'きりぎりす 鳴くや霜夜の さむしろに 衣かたしき ひとりかも寝む'],\n",
              "       [92, 'わが袖は 潮干に見えぬ 沖の石の 人こそ知らね 乾くまもなし'],\n",
              "       [93, '世の中は つねにもがもな 渚こぐ あまの小舟の 綱手かなしも'],\n",
              "       [94, 'み吉野の 山の秋風 さ夜ふけて ふるさと寒く 衣うつなり'],\n",
              "       [95, 'おほけなく うき世の民に おほふかな わが立つ杣に すみぞめの袖'],\n",
              "       [96, '花さそふ 嵐の庭の 雪ならで ふりゆくものは わが身なりけり'],\n",
              "       [97, 'こぬ人を まつほの浦の 夕なぎに 焼くやもしほの 身もこがれつつ'],\n",
              "       [98, '風そよぐ ならの小川の 夕暮れは みそぎぞ夏の しるしなりける'],\n",
              "       [99, '人もをし 人も恨めし あぢきなく 世を思ふゆゑに 物思ふ身は'],\n",
              "       [100, '百敷や ふるき軒端の しのぶにも なほあまりある 昔なりけり']], dtype=object)"
            ]
          },
          "metadata": {},
          "execution_count": 10
        }
      ]
    },
    {
      "cell_type": "code",
      "source": [
        "# 形態素解析を実行する関数 my_Janome を定義します（この関数は以降では使いません）．\n",
        "def my_Janome(text):\n",
        "    t = Tokenizer()\n",
        "    results = t.tokenize(text)\n",
        "    for token in results:\n",
        "        print(token)"
      ],
      "metadata": {
        "id": "NNQ0-fOxLRox"
      },
      "execution_count": null,
      "outputs": []
    },
    {
      "cell_type": "code",
      "source": [
        "# 先頭の歌を取り出して「uta」だけを表示\n",
        "uta[0][1]"
      ],
      "metadata": {
        "colab": {
          "base_uri": "https://localhost:8080/",
          "height": 36
        },
        "id": "XPjK4SEYLku7",
        "outputId": "100c74bc-5155-4a40-96b2-3cdce047fcf0"
      },
      "execution_count": null,
      "outputs": [
        {
          "output_type": "execute_result",
          "data": {
            "text/plain": [
              "'秋の田の かりほの庵の 苫をあらみ わが衣手は 露にぬれつつ'"
            ],
            "application/vnd.google.colaboratory.intrinsic+json": {
              "type": "string"
            }
          },
          "metadata": {},
          "execution_count": 16
        }
      ]
    },
    {
      "cell_type": "code",
      "source": [
        "my_Janome(uta[0][1])"
      ],
      "metadata": {
        "colab": {
          "base_uri": "https://localhost:8080/"
        },
        "id": "MpiXW4ISLnh9",
        "outputId": "7a47ba0a-5c33-4f81-c626-a81add64b378"
      },
      "execution_count": null,
      "outputs": [
        {
          "output_type": "stream",
          "name": "stdout",
          "text": [
            "秋\t名詞,一般,*,*,*,*,秋,アキ,アキ\n",
            "の\t助詞,連体化,*,*,*,*,の,ノ,ノ\n",
            "田\t名詞,一般,*,*,*,*,田,タ,タ\n",
            "の\t助詞,連体化,*,*,*,*,の,ノ,ノ\n",
            " \t記号,空白,*,*,*,*, ,*,*\n",
            "かり\t動詞,自立,*,*,一段,連用形,かりる,カリ,カリ\n",
            "ほ\t動詞,自立,*,*,五段・ラ行,体言接続特殊２,ほる,ホ,ホ\n",
            "の\t助詞,連体化,*,*,*,*,の,ノ,ノ\n",
            "庵\t名詞,一般,*,*,*,*,庵,アン,アン\n",
            "の\t助詞,連体化,*,*,*,*,の,ノ,ノ\n",
            " \t記号,空白,*,*,*,*, ,*,*\n",
            "苫\t名詞,一般,*,*,*,*,苫,トマ,トマ\n",
            "を\t助詞,格助詞,一般,*,*,*,を,ヲ,ヲ\n",
            "あら\t動詞,自立,*,*,五段・ラ行,未然形,ある,アラ,アラ\n",
            "み\t動詞,非自立,*,*,一段,連用形,みる,ミ,ミ\n",
            " \t記号,空白,*,*,*,*, ,*,*\n",
            "わが\t連体詞,*,*,*,*,*,わが,ワガ,ワガ\n",
            "衣手\t名詞,一般,*,*,*,*,衣手,コロモデ,コロモデ\n",
            "は\t助詞,係助詞,*,*,*,*,は,ハ,ワ\n",
            " \t記号,空白,*,*,*,*, ,*,*\n",
            "露\t名詞,固有名詞,地域,国,*,*,露,ロ,ロ\n",
            "に\t助詞,格助詞,一般,*,*,*,に,ニ,ニ\n",
            "ぬれ\t動詞,自立,*,*,一段,連用形,ぬれる,ヌレ,ヌレ\n",
            "つつ\t助詞,接続助詞,*,*,*,*,つつ,ツツ,ツツ\n"
          ]
        }
      ]
    },
    {
      "cell_type": "code",
      "source": [
        "# 空白文字列の削除\n",
        "uta[0][1].replace(' ', '')"
      ],
      "metadata": {
        "colab": {
          "base_uri": "https://localhost:8080/",
          "height": 36
        },
        "id": "JQEcdBv1LxLo",
        "outputId": "0f5200b8-b1e9-4d6b-e845-6580f49cfabf"
      },
      "execution_count": null,
      "outputs": [
        {
          "output_type": "execute_result",
          "data": {
            "text/plain": [
              "'秋の田のかりほの庵の苫をあらみわが衣手は露にぬれつつ'"
            ],
            "application/vnd.google.colaboratory.intrinsic+json": {
              "type": "string"
            }
          },
          "metadata": {},
          "execution_count": 18
        }
      ]
    },
    {
      "cell_type": "code",
      "source": [
        "# 空白を削除した文字列に対して形態素解析した結果を確認してみます．残念ながら，一部のヨミは正しくありません．\n",
        "my_Janome(uta[0][1].replace(' ', ''))"
      ],
      "metadata": {
        "colab": {
          "base_uri": "https://localhost:8080/"
        },
        "id": "zhfLgedNMNMv",
        "outputId": "6dc48077-1796-4a4c-8602-84b8d14facbc"
      },
      "execution_count": null,
      "outputs": [
        {
          "output_type": "stream",
          "name": "stdout",
          "text": [
            "秋\t名詞,一般,*,*,*,*,秋,アキ,アキ\n",
            "の\t助詞,連体化,*,*,*,*,の,ノ,ノ\n",
            "田\t名詞,一般,*,*,*,*,田,タ,タ\n",
            "の\t助詞,連体化,*,*,*,*,の,ノ,ノ\n",
            "かり\t動詞,自立,*,*,一段,連用形,かりる,カリ,カリ\n",
            "ほ\t動詞,自立,*,*,五段・ラ行,体言接続特殊２,ほる,ホ,ホ\n",
            "の\t助詞,連体化,*,*,*,*,の,ノ,ノ\n",
            "庵\t名詞,一般,*,*,*,*,庵,アン,アン\n",
            "の\t助詞,連体化,*,*,*,*,の,ノ,ノ\n",
            "苫\t名詞,一般,*,*,*,*,苫,トマ,トマ\n",
            "を\t助詞,格助詞,一般,*,*,*,を,ヲ,ヲ\n",
            "あら\t動詞,自立,*,*,五段・ラ行,未然形,ある,アラ,アラ\n",
            "み\t動詞,非自立,*,*,一段,連用形,みる,ミ,ミ\n",
            "わが\t連体詞,*,*,*,*,*,わが,ワガ,ワガ\n",
            "衣手\t名詞,一般,*,*,*,*,衣手,コロモデ,コロモデ\n",
            "は\t助詞,係助詞,*,*,*,*,は,ハ,ワ\n",
            "露\t名詞,形容動詞語幹,*,*,*,*,露,アラワ,アラワ\n",
            "に\t助詞,副詞化,*,*,*,*,に,ニ,ニ\n",
            "ぬれ\t動詞,自立,*,*,一段,連用形,ぬれる,ヌレ,ヌレ\n",
            "つつ\t助詞,接続助詞,*,*,*,*,つつ,ツツ,ツツ\n"
          ]
        }
      ]
    },
    {
      "cell_type": "code",
      "source": [
        "# 分かち書きをして，1次元リストにして返す関数 wakati() を定義します．\n",
        "def wakati(text):\n",
        "    t = Tokenizer()\n",
        "    results = t.tokenize(text)\n",
        "    words = []\n",
        "    for token in results:\n",
        "        words.append(token.surface) # 表層形\n",
        "    return words"
      ],
      "metadata": {
        "id": "FTDwNrIRMPbZ"
      },
      "execution_count": null,
      "outputs": []
    },
    {
      "cell_type": "code",
      "source": [
        "# 今定義した関数を用いて最初の歌を分かち書きしてみます．結果が1次元リストになって帰ってきていることがわかります．\n",
        "words_0 = wakati(uta[0][1].replace(' ', ''))\n",
        "print(words_0)"
      ],
      "metadata": {
        "colab": {
          "base_uri": "https://localhost:8080/"
        },
        "id": "drHUSIRtMkS0",
        "outputId": "67a21353-43b3-4883-9658-e770c04f7baa"
      },
      "execution_count": null,
      "outputs": [
        {
          "output_type": "stream",
          "name": "stdout",
          "text": [
            "['秋', 'の', '田', 'の', 'かり', 'ほ', 'の', '庵', 'の', '苫', 'を', 'あら', 'み', 'わが', '衣手', 'は', '露', 'に', 'ぬれ', 'つつ']\n"
          ]
        }
      ]
    },
    {
      "cell_type": "code",
      "source": [],
      "metadata": {
        "id": "MjHq01Y9MxGh"
      },
      "execution_count": null,
      "outputs": []
    }
  ]
}